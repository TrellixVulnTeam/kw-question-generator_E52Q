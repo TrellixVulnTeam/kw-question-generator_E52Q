{
 "cells": [
  {
   "cell_type": "markdown",
   "metadata": {},
   "source": [
    "### Walkthrough"
   ]
  },
  {
   "cell_type": "code",
   "execution_count": 1,
   "metadata": {},
   "outputs": [
    {
     "data": {
      "text/html": [
       "<div>\n",
       "<style scoped>\n",
       "    .dataframe tbody tr th:only-of-type {\n",
       "        vertical-align: middle;\n",
       "    }\n",
       "\n",
       "    .dataframe tbody tr th {\n",
       "        vertical-align: top;\n",
       "    }\n",
       "\n",
       "    .dataframe thead th {\n",
       "        text-align: right;\n",
       "    }\n",
       "</style>\n",
       "<table border=\"1\" class=\"dataframe\">\n",
       "  <thead>\n",
       "    <tr style=\"text-align: right;\">\n",
       "      <th></th>\n",
       "      <th>question</th>\n",
       "      <th>meta</th>\n",
       "      <th>answer</th>\n",
       "    </tr>\n",
       "  </thead>\n",
       "  <tbody>\n",
       "    <tr>\n",
       "      <td>0</td>\n",
       "      <td>What is personal data?</td>\n",
       "      <td>Organisations, General\\n</td>\n",
       "      <td>Personal data refers to data, whether true or ...</td>\n",
       "    </tr>\n",
       "    <tr>\n",
       "      <td>1</td>\n",
       "      <td>When did the PDPA come into force?</td>\n",
       "      <td>Organisations, General\\n</td>\n",
       "      <td>The PDPA was implemented in phases to allow ti...</td>\n",
       "    </tr>\n",
       "    <tr>\n",
       "      <td>2</td>\n",
       "      <td>What are the objectives of the PDPA?</td>\n",
       "      <td>Organisations, General\\n</td>\n",
       "      <td>The PDPA aims to safeguard individuals’ person...</td>\n",
       "    </tr>\n",
       "    <tr>\n",
       "      <td>3</td>\n",
       "      <td>How does the PDPA benefit business?</td>\n",
       "      <td>Organisations, General\\n</td>\n",
       "      <td>The PDPA will strengthen Singapore's overall e...</td>\n",
       "    </tr>\n",
       "    <tr>\n",
       "      <td>4</td>\n",
       "      <td>How will the PDPA impact business costs?</td>\n",
       "      <td>Organisations, General\\n</td>\n",
       "      <td>The provisions of the PDPA were formulated kee...</td>\n",
       "    </tr>\n",
       "  </tbody>\n",
       "</table>\n",
       "</div>"
      ],
      "text/plain": [
       "                                   question                      meta  \\\n",
       "0                    What is personal data?  Organisations, General\\n   \n",
       "1        When did the PDPA come into force?  Organisations, General\\n   \n",
       "2      What are the objectives of the PDPA?  Organisations, General\\n   \n",
       "3       How does the PDPA benefit business?  Organisations, General\\n   \n",
       "4  How will the PDPA impact business costs?  Organisations, General\\n   \n",
       "\n",
       "                                              answer  \n",
       "0  Personal data refers to data, whether true or ...  \n",
       "1  The PDPA was implemented in phases to allow ti...  \n",
       "2  The PDPA aims to safeguard individuals’ person...  \n",
       "3  The PDPA will strengthen Singapore's overall e...  \n",
       "4  The provisions of the PDPA were formulated kee...  "
      ]
     },
     "execution_count": 1,
     "metadata": {},
     "output_type": "execute_result"
    }
   ],
   "source": [
    "import os\n",
    "os.chdir('..')\n",
    "\n",
    "import pandas as pd\n",
    "\n",
    "pdpa_raw = pd.read_csv('data/pdpa/raw.csv')\n",
    "pdpa_raw.head()"
   ]
  },
  {
   "cell_type": "markdown",
   "metadata": {},
   "source": [
    "### 1. Generate Keywords"
   ]
  },
  {
   "cell_type": "code",
   "execution_count": 2,
   "metadata": {},
   "outputs": [
    {
     "data": {
      "text/plain": [
       "'Personal data refers to data, whether true or not, about an individual who can be identified from that data; or from that data and other information to which the organisation has or is likely to have access.This includes unique identifiers (e.g. NRIC number, passport number); photographs or video images of an individual (e.g. CCTV images); as well as any set of data (e.g. name, age, address, telephone number, occupation, etc), which when taken together would be able to identify the individual. For example, Jack Lim, 36 years old, civil servant, lives at Blk 123 Bishan St 23.'"
      ]
     },
     "execution_count": 2,
     "metadata": {},
     "output_type": "execute_result"
    }
   ],
   "source": [
    "text = pdpa_raw.answer[0]\n",
    "text"
   ]
  },
  {
   "cell_type": "code",
   "execution_count": 3,
   "metadata": {},
   "outputs": [
    {
     "name": "stderr",
     "output_type": "stream",
     "text": [
      "2020-05-19 16:34:00 INFO: Loading these models for language: en (English):\n",
      "=======================\n",
      "| Processor | Package |\n",
      "-----------------------\n",
      "| tokenize  | ewt     |\n",
      "| pos       | ewt     |\n",
      "=======================\n",
      "\n",
      "2020-05-19 16:34:00 INFO: Use device: cpu\n",
      "2020-05-19 16:34:00 INFO: Loading: tokenize\n",
      "2020-05-19 16:34:00 INFO: Loading: pos\n",
      "2020-05-19 16:34:01 INFO: Done loading processors!\n"
     ]
    }
   ],
   "source": [
    "from src.kw_extractor import kw_extractor\n",
    "kwe = kw_extractor()"
   ]
  },
  {
   "cell_type": "code",
   "execution_count": 11,
   "metadata": {},
   "outputs": [],
   "source": [
    "kw, kw_rank, alias, sentences = kwe.extract_kw(text, beta=0.9)\n",
    "context_w_kw = pd.DataFrame( kw, columns=['keywords'] ).assign(context = text)"
   ]
  },
  {
   "cell_type": "code",
   "execution_count": 24,
   "metadata": {},
   "outputs": [
    {
     "data": {
      "text/html": [
       "<div>\n",
       "<style scoped>\n",
       "    .dataframe tbody tr th:only-of-type {\n",
       "        vertical-align: middle;\n",
       "    }\n",
       "\n",
       "    .dataframe tbody tr th {\n",
       "        vertical-align: top;\n",
       "    }\n",
       "\n",
       "    .dataframe thead th {\n",
       "        text-align: right;\n",
       "    }\n",
       "</style>\n",
       "<table border=\"1\" class=\"dataframe\">\n",
       "  <thead>\n",
       "    <tr style=\"text-align: right;\">\n",
       "      <th></th>\n",
       "      <th>keyword</th>\n",
       "      <th>sentence</th>\n",
       "    </tr>\n",
       "  </thead>\n",
       "  <tbody>\n",
       "    <tr>\n",
       "      <td>0</td>\n",
       "      <td>personal data</td>\n",
       "      <td>Personal data refers to data, whether true or ...</td>\n",
       "    </tr>\n",
       "    <tr>\n",
       "      <td>1</td>\n",
       "      <td>unique identifiers</td>\n",
       "      <td>This includes unique identifiers (e.g. NRIC nu...</td>\n",
       "    </tr>\n",
       "    <tr>\n",
       "      <td>2</td>\n",
       "      <td>cctv images</td>\n",
       "      <td>This includes unique identifiers (e.g. NRIC nu...</td>\n",
       "    </tr>\n",
       "    <tr>\n",
       "      <td>3</td>\n",
       "      <td>data</td>\n",
       "      <td>Personal data refers to data, whether true or ...</td>\n",
       "    </tr>\n",
       "    <tr>\n",
       "      <td>4</td>\n",
       "      <td>data</td>\n",
       "      <td>This includes unique identifiers (e.g. NRIC nu...</td>\n",
       "    </tr>\n",
       "  </tbody>\n",
       "</table>\n",
       "</div>"
      ],
      "text/plain": [
       "              keyword                                           sentence\n",
       "0       personal data  Personal data refers to data, whether true or ...\n",
       "1  unique identifiers  This includes unique identifiers (e.g. NRIC nu...\n",
       "2         cctv images  This includes unique identifiers (e.g. NRIC nu...\n",
       "3                data  Personal data refers to data, whether true or ...\n",
       "4                data  This includes unique identifiers (e.g. NRIC nu..."
      ]
     },
     "execution_count": 24,
     "metadata": {},
     "output_type": "execute_result"
    }
   ],
   "source": [
    "def get_kw_sentence_pairs(kw, sentences):\n",
    "    \"\"\"\n",
    "    Pair the keywords and their sentences\n",
    "    Allows for multiple sentences\n",
    "    \n",
    "    args:\n",
    "    ----\n",
    "        keyword: (list of str)\n",
    "        sentence: (list of str)\n",
    "    return:\n",
    "    ------\n",
    "        list of keyword-sentence tuple pairs \n",
    "    \"\"\"\n",
    "    return [(keyword, sentence) \n",
    "            for keyword in kw \n",
    "            for sentence in sentences \n",
    "            if keyword.lower() in sentence.lower()]\n",
    "\n",
    "kw_sentence_pairs = get_kw_sentence_pairs(kw, sentences)\n",
    "kw_sentence_pairs = pd.DataFrame(kw_sentence_pairs, columns = ['keyword', 'sentence'])\n",
    "kw_sentence_pairs.head()"
   ]
  },
  {
   "cell_type": "code",
   "execution_count": 25,
   "metadata": {},
   "outputs": [
    {
     "data": {
      "text/html": [
       "<div>\n",
       "<style scoped>\n",
       "    .dataframe tbody tr th:only-of-type {\n",
       "        vertical-align: middle;\n",
       "    }\n",
       "\n",
       "    .dataframe tbody tr th {\n",
       "        vertical-align: top;\n",
       "    }\n",
       "\n",
       "    .dataframe thead th {\n",
       "        text-align: right;\n",
       "    }\n",
       "</style>\n",
       "<table border=\"1\" class=\"dataframe\">\n",
       "  <thead>\n",
       "    <tr style=\"text-align: right;\">\n",
       "      <th></th>\n",
       "      <th>keyword</th>\n",
       "      <th>sentence</th>\n",
       "      <th>context</th>\n",
       "    </tr>\n",
       "  </thead>\n",
       "  <tbody>\n",
       "    <tr>\n",
       "      <td>0</td>\n",
       "      <td>personal data</td>\n",
       "      <td>Personal data refers to data, whether true or ...</td>\n",
       "      <td>Personal data refers to data, whether true or ...</td>\n",
       "    </tr>\n",
       "    <tr>\n",
       "      <td>1</td>\n",
       "      <td>unique identifiers</td>\n",
       "      <td>This includes unique identifiers (e.g. NRIC nu...</td>\n",
       "      <td>Personal data refers to data, whether true or ...</td>\n",
       "    </tr>\n",
       "    <tr>\n",
       "      <td>2</td>\n",
       "      <td>cctv images</td>\n",
       "      <td>This includes unique identifiers (e.g. NRIC nu...</td>\n",
       "      <td>Personal data refers to data, whether true or ...</td>\n",
       "    </tr>\n",
       "    <tr>\n",
       "      <td>3</td>\n",
       "      <td>data</td>\n",
       "      <td>Personal data refers to data, whether true or ...</td>\n",
       "      <td>Personal data refers to data, whether true or ...</td>\n",
       "    </tr>\n",
       "    <tr>\n",
       "      <td>4</td>\n",
       "      <td>data</td>\n",
       "      <td>This includes unique identifiers (e.g. NRIC nu...</td>\n",
       "      <td>Personal data refers to data, whether true or ...</td>\n",
       "    </tr>\n",
       "  </tbody>\n",
       "</table>\n",
       "</div>"
      ],
      "text/plain": [
       "              keyword                                           sentence  \\\n",
       "0       personal data  Personal data refers to data, whether true or ...   \n",
       "1  unique identifiers  This includes unique identifiers (e.g. NRIC nu...   \n",
       "2         cctv images  This includes unique identifiers (e.g. NRIC nu...   \n",
       "3                data  Personal data refers to data, whether true or ...   \n",
       "4                data  This includes unique identifiers (e.g. NRIC nu...   \n",
       "\n",
       "                                             context  \n",
       "0  Personal data refers to data, whether true or ...  \n",
       "1  Personal data refers to data, whether true or ...  \n",
       "2  Personal data refers to data, whether true or ...  \n",
       "3  Personal data refers to data, whether true or ...  \n",
       "4  Personal data refers to data, whether true or ...  "
      ]
     },
     "execution_count": 25,
     "metadata": {},
     "output_type": "execute_result"
    }
   ],
   "source": [
    "kw_sentence_context = kw_sentence_pairs.assign(context = text)\n",
    "kw_sentence_context.head()"
   ]
  },
  {
   "cell_type": "code",
   "execution_count": 42,
   "metadata": {},
   "outputs": [
    {
     "name": "stdout",
     "output_type": "stream",
     "text": [
      "sentence_input sample: Personal data refers to data, whether true or not, about an individual who can be identified from that data; or from that data and other information to which the organisation has or is likely to have access. [SEP] personal data\n",
      "\n",
      "context_input sample: Personal data refers to data, whether true or not, about an individual who can be identified from that data; or from that data and other information to which the organisation has or is likely to have access.This includes unique identifiers (e.g. NRIC number, passport number); photographs or video images of an individual (e.g. CCTV images); as well as any set of data (e.g. name, age, address, telephone number, occupation, etc), which when taken together would be able to identify the individual. For example, Jack Lim, 36 years old, civil servant, lives at Blk 123 Bishan St 23. [SEP] personal data\n"
     ]
    }
   ],
   "source": [
    "generated_questions = kw_sentence_context.copy()\n",
    "\n",
    "sentence_qg_input = kw_sentence_context.sentence + ' [SEP] ' + kw_sentence_context.keyword\n",
    "generated_questions = generated_questions.assign(sentence_qg_input=sentence_qg_input)\n",
    "print(f\"sentence_input sample: {sentence_qg_input[0]}\")\n",
    "\n",
    "context_qg_input = kw_sentence_context.context + ' [SEP] ' + kw_sentence_context.keyword\n",
    "generated_questions = generated_questions.assign(context_qg_input=context_qg_input)\n",
    "print(f\"\\ncontext_input sample: {context_qg_input[0]}\")"
   ]
  },
  {
   "cell_type": "markdown",
   "metadata": {},
   "source": [
    "### 2. Generate questions"
   ]
  },
  {
   "cell_type": "code",
   "execution_count": 37,
   "metadata": {},
   "outputs": [
    {
     "name": "stdout",
     "output_type": "stream",
     "text": [
      "Better speed can be achieved with apex installed from https://www.github.com/artitw/apex.\n",
      "qg_model.bin found in current directory.\n",
      "***** Recover model: %s ***** qg_model.bin\n"
     ]
    }
   ],
   "source": [
    "from src.q_gen import q_gen\n",
    "qg = q_gen()"
   ]
  },
  {
   "cell_type": "code",
   "execution_count": 38,
   "metadata": {},
   "outputs": [
    {
     "name": "stderr",
     "output_type": "stream",
     "text": [
      "100%|██████████| 1/1 [00:43<00:00, 43.92s/it]\n"
     ]
    },
    {
     "data": {
      "text/plain": [
       "[('What is the term for data about an individual who can be identified from what?',\n",
       "  'personal data'),\n",
       " ('What is a NRIC number?', 'unique identifiers'),\n",
       " ('What is an example of a CCTV image?', 'cctv images'),\n",
       " ('What is personal data?', 'data'),\n",
       " ('Name a set of what?', 'data'),\n",
       " ('What is an example of a unique identifier?', 'passport number'),\n",
       " ('What type of data is personal data?', 'individual'),\n",
       " ('CCTV images can identify what?', 'individual'),\n",
       " ('What is an example of a unique identifier?', 'nric number'),\n",
       " (\"What is Jack Lim's occupation?\", 'civil servant'),\n",
       " ('What is one example of a unique identifier that can be used to identify an individual?',\n",
       "  'telephone number'),\n",
       " ('What is personal data?', 'other information')]"
      ]
     },
     "execution_count": 38,
     "metadata": {},
     "output_type": "execute_result"
    }
   ],
   "source": [
    "qg.predict(qg_input)"
   ]
  },
  {
   "cell_type": "code",
   "execution_count": 49,
   "metadata": {},
   "outputs": [
    {
     "name": "stderr",
     "output_type": "stream",
     "text": [
      "100%|██████████| 1/1 [01:01<00:00, 61.90s/it]\n"
     ]
    }
   ],
   "source": [
    "gen_questions_kw_pair = qg.predict(context_qg_input)"
   ]
  },
  {
   "cell_type": "code",
   "execution_count": 51,
   "metadata": {},
   "outputs": [
    {
     "data": {
      "text/plain": [
       "[('What is data about an individual that can be identified from what?',\n",
       "  'personal data'),\n",
       " ('What type of identifiers are NRIC numbers and passport number?',\n",
       "  'unique identifiers'),\n",
       " ('What type of images can be used to identify an individual?', 'cctv images'),\n",
       " ('What is personal data?', 'data'),\n",
       " ('What is personal data?', 'data'),\n",
       " ('What is an example of a unique identifier?', 'passport number'),\n",
       " ('What is personal data?', 'individual'),\n",
       " ('What is personal data?', 'individual'),\n",
       " ('What is an example of a unique identifier?', 'nric number'),\n",
       " (\"What is Jack Lim's occupation?\", 'civil servant'),\n",
       " ('What is one example of a personal data identifier?', 'telephone number'),\n",
       " ('What is included in personal data?', 'other information')]"
      ]
     },
     "execution_count": 51,
     "metadata": {},
     "output_type": "execute_result"
    }
   ],
   "source": [
    "gen_questions_kw_pair"
   ]
  },
  {
   "cell_type": "markdown",
   "metadata": {},
   "source": [
    "### We can see the context based inputs give much better questions"
   ]
  },
  {
   "cell_type": "code",
   "execution_count": 50,
   "metadata": {},
   "outputs": [],
   "source": [
    "gen_questions_str = [tup[0] for tup in gen_questions_kw_pair]\n",
    "generated_questions = generated_questions.assign(gen_questions = gen_questions_str)\n",
    "generated_questions"
   ]
  },
  {
   "cell_type": "code",
   "execution_count": null,
   "metadata": {},
   "outputs": [],
   "source": []
  },
  {
   "cell_type": "code",
   "execution_count": null,
   "metadata": {},
   "outputs": [],
   "source": []
  },
  {
   "cell_type": "code",
   "execution_count": null,
   "metadata": {},
   "outputs": [],
   "source": []
  }
 ],
 "metadata": {
  "kernelspec": {
   "display_name": "Python 3",
   "language": "python",
   "name": "python3"
  },
  "language_info": {
   "codemirror_mode": {
    "name": "ipython",
    "version": 3
   },
   "file_extension": ".py",
   "mimetype": "text/x-python",
   "name": "python",
   "nbconvert_exporter": "python",
   "pygments_lexer": "ipython3",
   "version": "3.7.4"
  }
 },
 "nbformat": 4,
 "nbformat_minor": 4
}
